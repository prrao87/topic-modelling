{
 "cells": [
  {
   "cell_type": "markdown",
   "metadata": {},
   "source": [
    "# Preprocess\n",
    "This notebook performs pre-processing on the NYTimes dataset (downloaded from [this Kaggle link](https://www.kaggle.com/nzalake52/new-york-times-articles)). Since the data is a raw text file, we need to output it to a tabular format, such as CSV. \n",
    "\n",
    "The kind of pre-processing that would be done is specific to the source of the news data, so this notebook is specific to only this NY Times news article dataset. "
   ]
  },
  {
   "cell_type": "code",
   "execution_count": 1,
   "metadata": {},
   "outputs": [],
   "source": [
    "import re\n",
    "import spacy\n",
    "import pandas as pd\n",
    "import matplotlib.pyplot as plt\n",
    "plt.style.use('ggplot')\n",
    "%matplotlib inline"
   ]
  },
  {
   "cell_type": "markdown",
   "metadata": {},
   "source": [
    "### Specify path to raw data in nytimes.txt"
   ]
  },
  {
   "cell_type": "code",
   "execution_count": 2,
   "metadata": {},
   "outputs": [],
   "source": [
    "data_path = \"../data/nytimes.txt\""
   ]
  },
  {
   "cell_type": "code",
   "execution_count": 3,
   "metadata": {},
   "outputs": [
    {
     "name": "stdout",
     "output_type": "stream",
     "text": [
      "URL: http://www.nytimes.com/2016/06/30/sports/baseball/washington-nationals-max-scherzer-baffles-mets-completing-a-sweep.html\n",
      "\n",
      "WASHINGTON — Stellar pitching kept the Mets afloat in the first half of last season despite their offensive woes. But they cannot produce an encore of their pennant-winning season if their lineup keeps floundering while their pitching is nicked, bruised and stretched thin.\n",
      "“We were going to ride our pitching,” Manager Terry Collins said before Wednesday’s game. “But we’re not riding it right now. We’ve got as many problems with our pitching as we do anything.”\n",
      "Wednesday’s 4-2 loss to the Washington Nationals was cruel for the already-limping Mets. Pitching in Steven Matz’s place, the spot starter Logan Verrett allowed two runs over five innings. But even that was too large a deficit for the Mets’ lineup to overcome against Max Scherzer, the Nationals’ starter.\n",
      "“We’re not even giving ourselves chances,” Collins said, adding later, “We just can’t give our pitchers any room to work.”\n",
      "The Mets did not score until the ninth inning, when a last-gasp two-run homer by James Loney off Nationals reliever Shawn Kelley snapped a streak of 23 scoreless innings for the team.\n",
      "The Mets were swept in the three-game series and fell six games behind the Nationals in the National League East. Of late, the Mets have looked worse than their 40-37 record.\n",
      "“I don’t think we’ve played half our games yet this year,” right fielder Curtis Granderson said. “There’s still a lot of things left that can and hopefully will happen.”\n",
      "Scherzer toyed with the Mets, who were initially without Granderson after he was scratched from the lineup with lingering calf tightness. Even though Granderson has been inconsistent this season, he had hit well against Scherzer in the past. Alejandro De Aza, who entered the game with a .165 average, started in right field instead because Collins said the team had few options.\n",
      "After Scherzer gave up a single to Asdrubal Cabrera and walked Loney in the second inning, he retired the next 18 batters, until an eighth-inning single by Brandon Nimmo.\n",
      "The Mets struggled again with runners on base. After Nimmo and the pinch-hitting Granderson singled in the eighth, pinch-hitter Travis d’Arnaud grounded out, and De Aza struck out.\n",
      "“If they keep adding pressure on themselves, they’re going to continue to struggle,” Collins said. “That’s one of the things we try to make sure they have to understand: They have to be themselves.”\n",
      "General Manager Sandy Alderson, Collins and the coaching staff have met about the offense and discussed the odd dynamics: Some players are performing at or better than their career averages, but the lineup as a whole has struggled immensely, especially with runners in scoring position.\n",
      "“We’re just not driving in any runs,” Collins said. “That’s been the frustrating part. It’s not that we’re striking out. We’re popping up, or a double-play ball.”\n",
      "The Mets have a power-hitting team, so asking players to bunt or hit and run would go against their strengths.\n",
      "“When you start to change a team that’s built one way and start to make them do something different, you’re going to get your butt beat,” Collins said.\n",
      "Earlier in the season, the Mets appeared like an all-or-nothing, home-run-driven team. Although they hit only .211 as a team in May, they smashed 40 home runs. They have a higher average in June, but they have hit only 24 homers, and the inconsistent offense has put a strain on the pitching staff.\n",
      "In the second inning, Verrett gave up a solo home run to the ex-Met Daniel Murphy. Collins wanted to limit the workloads of Addison Reed and Jeurys Familia, so he turned to reliever Sean Gilmartin in the eighth. Gilmartin gave up a two-run homer to Murphy, who has hit .429 (15 for 35) with four home runs against the Mets this season, his first since leaving the team.\n",
      "“I felt like I kept us in the game and gave us a chance to come back and win it,” Verrett said. “I wish that I wouldn’t have given up the two runs.”\n",
      "Verrett was put in this position because of the effects of bone spurs on the Mets’ rotation. The team asked Verrett to start Wednesday and gave Matz an extra day of rest after he received anti-inflammatory medication for the large bone spur in his left elbow. He will try to pitch through it.\n",
      "Noah Syndergaard has a smaller and less intrusive bone spur in the back of his right elbow.\n",
      "“As long as I’m staying on my anti-inflammatories and my mechanics are on point, I’m able to go out there every five days and compete,” Syndergaard said.\n",
      "For the Mets, the immediate road ahead will be even tougher. Matz was expected to pitch Thursday against the Chicago Cubs, one of the best teams in baseball this season.\n",
      "\n",
      "URL: http://www.nytimes.com/2016/06/30/nyregion/mayor-de-blasios-counsel-to-leave-next-month-to-lead-police-review-board.html\n",
      "\n",
      "Mayor Bill de Blasio’s counsel and chief legal adviser, Maya Wiley, is resigning next month from her City Hall position to become the chairwoman of the Civilian Complaint Review Board, New York City’s independent oversight agency for the Police Department.\n",
      "The move represents the latest shake-up for the de Blasio administration amid continuing state and federal investigations into the mayor’s fund-raising, and fills a two-month vacancy at the police review board created by the resignation of its chairman, Richard D. Emery, in April.\n",
      "A civil rights lawyer and advocate for racial and social justice, Ms. Wiley joined the de Blasio administration in early 2014 to focus on legal issues as well as on the mayor’s efforts to address issues of inequality. But over time, Ms. Wiley became discouraged over not being part of Mr. de Blasio’s inner circle and felt cut out of both legal questions and advocacy, according to a person familiar with her thinking. On the former, Mr. de Blasio often relied instead on the city’s corporation counsel and Henry Berger, the mayor’s special counsel; on the latter, he favored his top political aides. The person requested anonymity to discuss private conversations.\n"
     ]
    }
   ],
   "source": [
    "# Read data for checking\n",
    "c = 0\n",
    "with open(data_path, 'r') as file:\n",
    "    for line in file:\n",
    "        c += 1\n",
    "        print(line.strip())\n",
    "        if c == 30: break        "
   ]
  },
  {
   "cell_type": "markdown",
   "metadata": {},
   "source": [
    "### Extract article blocks and store them in a Pandas DataFrame"
   ]
  },
  {
   "cell_type": "code",
   "execution_count": 4,
   "metadata": {},
   "outputs": [
    {
     "name": "stdout",
     "output_type": "stream",
     "text": [
      "8887\n",
      "8887\n"
     ]
    }
   ],
   "source": [
    "flag = False\n",
    "urls, content = [], []\n",
    "with open(data_path, 'r') as file:\n",
    "    for line in file:\n",
    "        if flag:\n",
    "            if line.startswith('URL: '):\n",
    "                flag = False\n",
    "                content.append(a)\n",
    "                a = []\n",
    "            else:\n",
    "                if line.strip():\n",
    "                    a.append(line.strip())       \n",
    "        if line.startswith('URL: '):\n",
    "            a = []\n",
    "            flag = True\n",
    "            urls.append(line.strip().replace(\"URL: \", \"\"))\n",
    "       \n",
    "del urls[-1]   # Can't match last block of text for now\n",
    "print(len(urls))\n",
    "print(len(content))\n",
    "df = pd.DataFrame({'url': urls, 'content': content})\n",
    "df['content'] = df['content'].str.join(' ')"
   ]
  },
  {
   "cell_type": "code",
   "execution_count": 5,
   "metadata": {},
   "outputs": [
    {
     "data": {
      "text/html": [
       "<div>\n",
       "<style scoped>\n",
       "    .dataframe tbody tr th:only-of-type {\n",
       "        vertical-align: middle;\n",
       "    }\n",
       "\n",
       "    .dataframe tbody tr th {\n",
       "        vertical-align: top;\n",
       "    }\n",
       "\n",
       "    .dataframe thead th {\n",
       "        text-align: right;\n",
       "    }\n",
       "</style>\n",
       "<table border=\"1\" class=\"dataframe\">\n",
       "  <thead>\n",
       "    <tr style=\"text-align: right;\">\n",
       "      <th></th>\n",
       "      <th>url</th>\n",
       "      <th>content</th>\n",
       "    </tr>\n",
       "  </thead>\n",
       "  <tbody>\n",
       "    <tr>\n",
       "      <th>8882</th>\n",
       "      <td>http://www.nytimes.com/2016/04/18/nyregion/man...</td>\n",
       "      <td>New York City officers shot and killed a 32-ye...</td>\n",
       "    </tr>\n",
       "    <tr>\n",
       "      <th>8883</th>\n",
       "      <td>http://www.nytimes.com/2016/04/18/us/politics/...</td>\n",
       "      <td>There is a second critical contest in America’...</td>\n",
       "    </tr>\n",
       "    <tr>\n",
       "      <th>8884</th>\n",
       "      <td>http://www.nytimes.com/2016/04/18/nyregion/he-...</td>\n",
       "      <td>On April 1, police officers from the 108th Pre...</td>\n",
       "    </tr>\n",
       "    <tr>\n",
       "      <th>8885</th>\n",
       "      <td>http://www.nytimes.com/2016/04/18/world/asia/f...</td>\n",
       "      <td>KHILAD, India — The cattle camp, on a dusty ba...</td>\n",
       "    </tr>\n",
       "    <tr>\n",
       "      <th>8886</th>\n",
       "      <td>http://www.nytimes.com/2016/04/18/movies/jj-ab...</td>\n",
       "      <td>The director J.J. Abrams dropped a possible hi...</td>\n",
       "    </tr>\n",
       "  </tbody>\n",
       "</table>\n",
       "</div>"
      ],
      "text/plain": [
       "                                                    url  \\\n",
       "8882  http://www.nytimes.com/2016/04/18/nyregion/man...   \n",
       "8883  http://www.nytimes.com/2016/04/18/us/politics/...   \n",
       "8884  http://www.nytimes.com/2016/04/18/nyregion/he-...   \n",
       "8885  http://www.nytimes.com/2016/04/18/world/asia/f...   \n",
       "8886  http://www.nytimes.com/2016/04/18/movies/jj-ab...   \n",
       "\n",
       "                                                content  \n",
       "8882  New York City officers shot and killed a 32-ye...  \n",
       "8883  There is a second critical contest in America’...  \n",
       "8884  On April 1, police officers from the 108th Pre...  \n",
       "8885  KHILAD, India — The cattle camp, on a dusty ba...  \n",
       "8886  The director J.J. Abrams dropped a possible hi...  "
      ]
     },
     "execution_count": 5,
     "metadata": {},
     "output_type": "execute_result"
    }
   ],
   "source": [
    "df.tail()"
   ]
  },
  {
   "cell_type": "markdown",
   "metadata": {},
   "source": [
    "### Parse the URL fields and extract publication dates"
   ]
  },
  {
   "cell_type": "code",
   "execution_count": 6,
   "metadata": {},
   "outputs": [
    {
     "data": {
      "text/html": [
       "<div>\n",
       "<style scoped>\n",
       "    .dataframe tbody tr th:only-of-type {\n",
       "        vertical-align: middle;\n",
       "    }\n",
       "\n",
       "    .dataframe tbody tr th {\n",
       "        vertical-align: top;\n",
       "    }\n",
       "\n",
       "    .dataframe thead th {\n",
       "        text-align: right;\n",
       "    }\n",
       "</style>\n",
       "<table border=\"1\" class=\"dataframe\">\n",
       "  <thead>\n",
       "    <tr style=\"text-align: right;\">\n",
       "      <th></th>\n",
       "      <th>date</th>\n",
       "      <th>url</th>\n",
       "      <th>content</th>\n",
       "    </tr>\n",
       "  </thead>\n",
       "  <tbody>\n",
       "    <tr>\n",
       "      <th>0</th>\n",
       "      <td>2016-06-30</td>\n",
       "      <td>http://www.nytimes.com/2016/06/30/sports/baseb...</td>\n",
       "      <td>WASHINGTON — Stellar pitching kept the Mets af...</td>\n",
       "    </tr>\n",
       "    <tr>\n",
       "      <th>1</th>\n",
       "      <td>2016-06-30</td>\n",
       "      <td>http://www.nytimes.com/2016/06/30/nyregion/may...</td>\n",
       "      <td>Mayor Bill de Blasio’s counsel and chief legal...</td>\n",
       "    </tr>\n",
       "    <tr>\n",
       "      <th>2</th>\n",
       "      <td>2016-06-30</td>\n",
       "      <td>http://www.nytimes.com/2016/06/30/nyregion/thr...</td>\n",
       "      <td>In the early morning hours of Labor Day last y...</td>\n",
       "    </tr>\n",
       "    <tr>\n",
       "      <th>3</th>\n",
       "      <td>2016-06-30</td>\n",
       "      <td>http://www.nytimes.com/2016/06/30/nyregion/tek...</td>\n",
       "      <td>It was the Apple Store in New York City before...</td>\n",
       "    </tr>\n",
       "    <tr>\n",
       "      <th>4</th>\n",
       "      <td>2016-06-30</td>\n",
       "      <td>http://www.nytimes.com/2016/06/30/sports/olymp...</td>\n",
       "      <td>OMAHA — The United States Olympic swimming tri...</td>\n",
       "    </tr>\n",
       "  </tbody>\n",
       "</table>\n",
       "</div>"
      ],
      "text/plain": [
       "        date                                                url  \\\n",
       "0 2016-06-30  http://www.nytimes.com/2016/06/30/sports/baseb...   \n",
       "1 2016-06-30  http://www.nytimes.com/2016/06/30/nyregion/may...   \n",
       "2 2016-06-30  http://www.nytimes.com/2016/06/30/nyregion/thr...   \n",
       "3 2016-06-30  http://www.nytimes.com/2016/06/30/nyregion/tek...   \n",
       "4 2016-06-30  http://www.nytimes.com/2016/06/30/sports/olymp...   \n",
       "\n",
       "                                             content  \n",
       "0  WASHINGTON — Stellar pitching kept the Mets af...  \n",
       "1  Mayor Bill de Blasio’s counsel and chief legal...  \n",
       "2  In the early morning hours of Labor Day last y...  \n",
       "3  It was the Apple Store in New York City before...  \n",
       "4  OMAHA — The United States Olympic swimming tri...  "
      ]
     },
     "execution_count": 6,
     "metadata": {},
     "output_type": "execute_result"
    }
   ],
   "source": [
    "s = []\n",
    "for values in df['url']:\n",
    "    s.append(re.search(r'[0-9]+/[0-9]+/[0-9]+', values).group())\n",
    "\n",
    "df['date'] = pd.to_datetime(pd.Series(s), format='%Y/%m/%d')\n",
    "df = df[['date', 'url', 'content']]\n",
    "df.head()"
   ]
  },
  {
   "cell_type": "markdown",
   "metadata": {},
   "source": [
    "### Obtain headline and news-category information from the URL\n",
    "Ideally, we would scrape the headline directly from the source, but in this specific dataset, the headlines are embedded into the URL. These are extracted accordingly."
   ]
  },
  {
   "cell_type": "code",
   "execution_count": 7,
   "metadata": {},
   "outputs": [
    {
     "name": "stdout",
     "output_type": "stream",
     "text": [
      "['/world/middleeast/turkey-a-conduit-for-fighters-joining-isis-begins-to-feel-its-wrath', 'html']\n"
     ]
    }
   ],
   "source": [
    "# Get only the headline and news_category\n",
    "href = \"http://www.nytimes.com/2016/06/30/world/middleeast/turkey-a-conduit-for-fighters-joining-isis-begins-to-feel-its-wrath.html\"\n",
    "href_split = re.split(r'[0-9]+/[0-9]+/[0-9]+', href)[-1]\n",
    "print(href_split.split('.'))"
   ]
  },
  {
   "cell_type": "code",
   "execution_count": 8,
   "metadata": {},
   "outputs": [
    {
     "name": "stdout",
     "output_type": "stream",
     "text": [
      "world-middleeast\n",
      "turkey a conduit for fighters joining isis begins to feel its wrath\n"
     ]
    }
   ],
   "source": [
    "# Store news-category\n",
    "news_category = \"-\".join(i for i in href_split.split('/')[:-1]).strip('-')\n",
    "print(news_category)\n",
    "headline = href_split.split('/')[-1].replace(\"-\", \" \").replace(\".html\", \"\")\n",
    "print(headline)"
   ]
  },
  {
   "cell_type": "markdown",
   "metadata": {},
   "source": [
    "#### Include the news-category and true-cased headline in our tabular data"
   ]
  },
  {
   "cell_type": "code",
   "execution_count": 9,
   "metadata": {},
   "outputs": [
    {
     "data": {
      "text/html": [
       "<div>\n",
       "<style scoped>\n",
       "    .dataframe tbody tr th:only-of-type {\n",
       "        vertical-align: middle;\n",
       "    }\n",
       "\n",
       "    .dataframe tbody tr th {\n",
       "        vertical-align: top;\n",
       "    }\n",
       "\n",
       "    .dataframe thead th {\n",
       "        text-align: right;\n",
       "    }\n",
       "</style>\n",
       "<table border=\"1\" class=\"dataframe\">\n",
       "  <thead>\n",
       "    <tr style=\"text-align: right;\">\n",
       "      <th></th>\n",
       "      <th>date</th>\n",
       "      <th>news_category</th>\n",
       "      <th>headline</th>\n",
       "      <th>content</th>\n",
       "      <th>url</th>\n",
       "    </tr>\n",
       "  </thead>\n",
       "  <tbody>\n",
       "    <tr>\n",
       "      <th>8882</th>\n",
       "      <td>2016-04-18</td>\n",
       "      <td>nyregion</td>\n",
       "      <td>man killed in police shooting in queens author...</td>\n",
       "      <td>New York City officers shot and killed a 32-ye...</td>\n",
       "      <td>http://www.nytimes.com/2016/04/18/nyregion/man...</td>\n",
       "    </tr>\n",
       "    <tr>\n",
       "      <th>8883</th>\n",
       "      <td>2016-04-18</td>\n",
       "      <td>us-politics</td>\n",
       "      <td>battle for senate</td>\n",
       "      <td>There is a second critical contest in America’...</td>\n",
       "      <td>http://www.nytimes.com/2016/04/18/us/politics/...</td>\n",
       "    </tr>\n",
       "    <tr>\n",
       "      <th>8884</th>\n",
       "      <td>2016-04-18</td>\n",
       "      <td>nyregion</td>\n",
       "      <td>he said his car had been stolen the police say...</td>\n",
       "      <td>On April 1, police officers from the 108th Pre...</td>\n",
       "      <td>http://www.nytimes.com/2016/04/18/nyregion/he-...</td>\n",
       "    </tr>\n",
       "    <tr>\n",
       "      <th>8885</th>\n",
       "      <td>2016-04-18</td>\n",
       "      <td>world-asia</td>\n",
       "      <td>farmers in arid india share camps with their c...</td>\n",
       "      <td>KHILAD, India — The cattle camp, on a dusty ba...</td>\n",
       "      <td>http://www.nytimes.com/2016/04/18/world/asia/f...</td>\n",
       "    </tr>\n",
       "    <tr>\n",
       "      <th>8886</th>\n",
       "      <td>2016-04-18</td>\n",
       "      <td>movies</td>\n",
       "      <td>jj abrams hints reys father is not who you tho...</td>\n",
       "      <td>The director J.J. Abrams dropped a possible hi...</td>\n",
       "      <td>http://www.nytimes.com/2016/04/18/movies/jj-ab...</td>\n",
       "    </tr>\n",
       "  </tbody>\n",
       "</table>\n",
       "</div>"
      ],
      "text/plain": [
       "           date news_category  \\\n",
       "8882 2016-04-18      nyregion   \n",
       "8883 2016-04-18   us-politics   \n",
       "8884 2016-04-18      nyregion   \n",
       "8885 2016-04-18    world-asia   \n",
       "8886 2016-04-18        movies   \n",
       "\n",
       "                                               headline  \\\n",
       "8882  man killed in police shooting in queens author...   \n",
       "8883                                  battle for senate   \n",
       "8884  he said his car had been stolen the police say...   \n",
       "8885  farmers in arid india share camps with their c...   \n",
       "8886  jj abrams hints reys father is not who you tho...   \n",
       "\n",
       "                                                content  \\\n",
       "8882  New York City officers shot and killed a 32-ye...   \n",
       "8883  There is a second critical contest in America’...   \n",
       "8884  On April 1, police officers from the 108th Pre...   \n",
       "8885  KHILAD, India — The cattle camp, on a dusty ba...   \n",
       "8886  The director J.J. Abrams dropped a possible hi...   \n",
       "\n",
       "                                                    url  \n",
       "8882  http://www.nytimes.com/2016/04/18/nyregion/man...  \n",
       "8883  http://www.nytimes.com/2016/04/18/us/politics/...  \n",
       "8884  http://www.nytimes.com/2016/04/18/nyregion/he-...  \n",
       "8885  http://www.nytimes.com/2016/04/18/world/asia/f...  \n",
       "8886  http://www.nytimes.com/2016/04/18/movies/jj-ab...  "
      ]
     },
     "execution_count": 9,
     "metadata": {},
     "output_type": "execute_result"
    }
   ],
   "source": [
    "# Create DataFrame columns for headline and topic \n",
    "news_category, headline = [], []\n",
    "for row in df['url']:\n",
    "    href_split = re.split(r'[0-9]+/[0-9]+/[0-9]+', row)[-1]\n",
    "    news_category.append(\"-\".join(i for i in href_split.split('/')[:-1]).strip('-'))\n",
    "    not_truecased_h = href_split.split('/')[-1].replace(\".html\", \"\").replace(\"-\", \" \")\n",
    "    headline.append(not_truecased_h)\n",
    "    \n",
    "df['news_category'] = news_category\n",
    "df['headline'] = headline\n",
    "df = df[['date', 'news_category', 'headline', 'content', 'url']]\n",
    "df.tail()"
   ]
  },
  {
   "cell_type": "markdown",
   "metadata": {},
   "source": [
    "The headlines extracted are still nowhere near perfect, but this is enough for the purposes of this exercise. Obtaining proper headlines is a case that can be tackled upstream, during data collection (from a reliable source such as [newsapi.org](https://newsapi.org/))."
   ]
  },
  {
   "cell_type": "markdown",
   "metadata": {},
   "source": [
    "#### Study the distribution of articles in the dataset"
   ]
  },
  {
   "cell_type": "code",
   "execution_count": 10,
   "metadata": {},
   "outputs": [
    {
     "name": "stdout",
     "output_type": "stream",
     "text": [
      "The preprocessed data has 8887 news articles from 82 unique topics\n"
     ]
    }
   ],
   "source": [
    "print('The preprocessed data has {} news articles from {} unique topics'\\\n",
    "      .format(df.shape[0], df['news_category'].nunique()))"
   ]
  },
  {
   "cell_type": "code",
   "execution_count": 11,
   "metadata": {},
   "outputs": [
    {
     "data": {
      "text/plain": [
       "nyregion             663\n",
       "us-politics          608\n",
       "us                   589\n",
       "business-dealbook    382\n",
       "world-europe         358\n",
       "Name: news_category, dtype: int64"
      ]
     },
     "execution_count": 11,
     "metadata": {},
     "output_type": "execute_result"
    }
   ],
   "source": [
    "df['news_category'].value_counts().head()"
   ]
  },
  {
   "cell_type": "code",
   "execution_count": 12,
   "metadata": {},
   "outputs": [
    {
     "data": {
      "image/png": "[encoded data removed]",
      "text/plain": [
       "<Figure size 720x720 with 1 Axes>"
      ]
     },
     "metadata": {
      "needs_background": "light"
     },
     "output_type": "display_data"
    }
   ],
   "source": [
    "c_topics = df['news_category'].value_counts().to_frame()[:30]\n",
    "c_topics.sort_values(by='news_category', ascending=True).plot(kind = 'barh', colormap='jet', legend=False, figsize=(10, 10));"
   ]
  },
  {
   "cell_type": "markdown",
   "metadata": {},
   "source": [
    "#### Clean up article text\n",
    "\n",
    "We first remove the location specification at the start of each article (e.g. \"WASHINGTON — \")"
   ]
  },
  {
   "cell_type": "code",
   "execution_count": 13,
   "metadata": {},
   "outputs": [],
   "source": [
    "pattern = re.compile(r'^\\b[A-Z\\s]+[\\,\\.]*[A-Za-z\\s\\,\\.]+—')\n",
    "\n",
    "def clean_article_start(text):\n",
    "#     text = pattern.sub('', text)\n",
    "    matched = pattern.findall(text)\n",
    "    if matched:\n",
    "        text = text[len(matched[0]):]\n",
    "    return text.strip()"
   ]
  },
  {
   "cell_type": "markdown",
   "metadata": {},
   "source": [
    "#### Remove items with Chinese, Japanese or Korean characters"
   ]
  },
  {
   "cell_type": "code",
   "execution_count": 14,
   "metadata": {},
   "outputs": [],
   "source": [
    "def cjk_detect(texts):\n",
    "    # korean\n",
    "    if re.search(\"[\\uac00-\\ud7a3]\", texts):\n",
    "        return False\n",
    "    # japanese\n",
    "    if re.search(\"[\\u3040-\\u30ff]\", texts):\n",
    "        return False\n",
    "    # chinese\n",
    "    if re.search(\"[\\u4e00-\\u9FFF]\", texts):\n",
    "        return False\n",
    "    return True"
   ]
  },
  {
   "cell_type": "markdown",
   "metadata": {},
   "source": [
    "#### Remove articles that are purely lists for subscribing to other articles\n",
    "Sometimes we have articles that aren't really articles at all, but are sign-up lists for news briefings via email. These start with a common pattern, which can be identified and removed."
   ]
  },
  {
   "cell_type": "code",
   "execution_count": 15,
   "metadata": {},
   "outputs": [],
   "source": [
    "def remove_subscribe_list(text):\n",
    "    subs_string = 'Want to get this briefing by email? Here’s the sign-up.'\n",
    "    if subs_string in text:\n",
    "        text = ''\n",
    "    return text"
   ]
  },
  {
   "cell_type": "markdown",
   "metadata": {},
   "source": [
    "#### Remove underscore \"clumps\"\n",
    "A fea articles have chained underscores that do not add any meaning to the text - these are cleaned and removed."
   ]
  },
  {
   "cell_type": "code",
   "execution_count": 16,
   "metadata": {},
   "outputs": [],
   "source": [
    "def remove_underscores(text):\n",
    "    text = re.sub(r'_?', '', text)\n",
    "    return text"
   ]
  },
  {
   "cell_type": "markdown",
   "metadata": {},
   "source": [
    "### Run cleanup utilities on the data\n",
    "In this section, we run the Chinese article, subscription-list and underscore cleaning utilities on the dataset"
   ]
  },
  {
   "cell_type": "code",
   "execution_count": 17,
   "metadata": {},
   "outputs": [
    {
     "name": "stderr",
     "output_type": "stream",
     "text": [
      "100%|██████████| 8875/8875 [00:00<00:00, 21328.88it/s]\n",
      "100%|██████████| 8875/8875 [00:00<00:00, 226311.83it/s]\n",
      "100%|██████████| 8875/8875 [00:06<00:00, 1377.27it/s]\n"
     ]
    }
   ],
   "source": [
    "# pip install tqdm\n",
    "from tqdm import tqdm\n",
    "tqdm.pandas()\n",
    "\n",
    "df['is_english'] = df['content'].apply(cjk_detect)\n",
    "df = df[df['is_english'] == True]\n",
    "\n",
    "# Clean unwanted stuff\n",
    "df['content_new'] = df['content'].progress_apply(clean_article_start)\n",
    "df['content_new'] = df['content_new'].progress_apply(remove_subscribe_list)\n",
    "df['content_new'] = df['content_new'].progress_apply(remove_underscores)"
   ]
  },
  {
   "cell_type": "code",
   "execution_count": 18,
   "metadata": {},
   "outputs": [
    {
     "data": {
      "text/html": [
       "<div>\n",
       "<style scoped>\n",
       "    .dataframe tbody tr th:only-of-type {\n",
       "        vertical-align: middle;\n",
       "    }\n",
       "\n",
       "    .dataframe tbody tr th {\n",
       "        vertical-align: top;\n",
       "    }\n",
       "\n",
       "    .dataframe thead th {\n",
       "        text-align: right;\n",
       "    }\n",
       "</style>\n",
       "<table border=\"1\" class=\"dataframe\">\n",
       "  <thead>\n",
       "    <tr style=\"text-align: right;\">\n",
       "      <th></th>\n",
       "      <th>date</th>\n",
       "      <th>news_category</th>\n",
       "      <th>headline</th>\n",
       "      <th>content</th>\n",
       "      <th>url</th>\n",
       "      <th>is_english</th>\n",
       "      <th>content_new</th>\n",
       "    </tr>\n",
       "  </thead>\n",
       "  <tbody>\n",
       "    <tr>\n",
       "      <th>0</th>\n",
       "      <td>2016-06-30</td>\n",
       "      <td>sports-baseball</td>\n",
       "      <td>washington nationals max scherzer baffles mets...</td>\n",
       "      <td>WASHINGTON — Stellar pitching kept the Mets af...</td>\n",
       "      <td>http://www.nytimes.com/2016/06/30/sports/baseb...</td>\n",
       "      <td>True</td>\n",
       "      <td>Stellar pitching kept the Mets afloat in the f...</td>\n",
       "    </tr>\n",
       "    <tr>\n",
       "      <th>1</th>\n",
       "      <td>2016-06-30</td>\n",
       "      <td>nyregion</td>\n",
       "      <td>mayor de blasios counsel to leave next month t...</td>\n",
       "      <td>Mayor Bill de Blasio’s counsel and chief legal...</td>\n",
       "      <td>http://www.nytimes.com/2016/06/30/nyregion/may...</td>\n",
       "      <td>True</td>\n",
       "      <td>Mayor Bill de Blasio’s counsel and chief legal...</td>\n",
       "    </tr>\n",
       "    <tr>\n",
       "      <th>2</th>\n",
       "      <td>2016-06-30</td>\n",
       "      <td>nyregion</td>\n",
       "      <td>three men charged in killing of cuomo administ...</td>\n",
       "      <td>In the early morning hours of Labor Day last y...</td>\n",
       "      <td>http://www.nytimes.com/2016/06/30/nyregion/thr...</td>\n",
       "      <td>True</td>\n",
       "      <td>In the early morning hours of Labor Day last y...</td>\n",
       "    </tr>\n",
       "    <tr>\n",
       "      <th>3</th>\n",
       "      <td>2016-06-30</td>\n",
       "      <td>nyregion</td>\n",
       "      <td>tekserve precursor to the apple store to close...</td>\n",
       "      <td>It was the Apple Store in New York City before...</td>\n",
       "      <td>http://www.nytimes.com/2016/06/30/nyregion/tek...</td>\n",
       "      <td>True</td>\n",
       "      <td>It was the Apple Store in New York City before...</td>\n",
       "    </tr>\n",
       "    <tr>\n",
       "      <th>4</th>\n",
       "      <td>2016-06-30</td>\n",
       "      <td>sports-olympics</td>\n",
       "      <td>once at michael phelpss feet and still chasing...</td>\n",
       "      <td>OMAHA — The United States Olympic swimming tri...</td>\n",
       "      <td>http://www.nytimes.com/2016/06/30/sports/olymp...</td>\n",
       "      <td>True</td>\n",
       "      <td>The United States Olympic swimming trials are ...</td>\n",
       "    </tr>\n",
       "  </tbody>\n",
       "</table>\n",
       "</div>"
      ],
      "text/plain": [
       "        date    news_category  \\\n",
       "0 2016-06-30  sports-baseball   \n",
       "1 2016-06-30         nyregion   \n",
       "2 2016-06-30         nyregion   \n",
       "3 2016-06-30         nyregion   \n",
       "4 2016-06-30  sports-olympics   \n",
       "\n",
       "                                            headline  \\\n",
       "0  washington nationals max scherzer baffles mets...   \n",
       "1  mayor de blasios counsel to leave next month t...   \n",
       "2  three men charged in killing of cuomo administ...   \n",
       "3  tekserve precursor to the apple store to close...   \n",
       "4  once at michael phelpss feet and still chasing...   \n",
       "\n",
       "                                             content  \\\n",
       "0  WASHINGTON — Stellar pitching kept the Mets af...   \n",
       "1  Mayor Bill de Blasio’s counsel and chief legal...   \n",
       "2  In the early morning hours of Labor Day last y...   \n",
       "3  It was the Apple Store in New York City before...   \n",
       "4  OMAHA — The United States Olympic swimming tri...   \n",
       "\n",
       "                                                 url  is_english  \\\n",
       "0  http://www.nytimes.com/2016/06/30/sports/baseb...        True   \n",
       "1  http://www.nytimes.com/2016/06/30/nyregion/may...        True   \n",
       "2  http://www.nytimes.com/2016/06/30/nyregion/thr...        True   \n",
       "3  http://www.nytimes.com/2016/06/30/nyregion/tek...        True   \n",
       "4  http://www.nytimes.com/2016/06/30/sports/olymp...        True   \n",
       "\n",
       "                                         content_new  \n",
       "0  Stellar pitching kept the Mets afloat in the f...  \n",
       "1  Mayor Bill de Blasio’s counsel and chief legal...  \n",
       "2  In the early morning hours of Labor Day last y...  \n",
       "3  It was the Apple Store in New York City before...  \n",
       "4  The United States Olympic swimming trials are ...  "
      ]
     },
     "execution_count": 18,
     "metadata": {},
     "output_type": "execute_result"
    }
   ],
   "source": [
    "df.head()"
   ]
  },
  {
   "cell_type": "markdown",
   "metadata": {},
   "source": [
    "### Output tabular data to file\n",
    "The structured and preprocessed NYT dataset is now output to file."
   ]
  },
  {
   "cell_type": "code",
   "execution_count": 19,
   "metadata": {},
   "outputs": [],
   "source": [
    "write_df = df[['date', 'headline', 'content_new']].reindex()\n",
    "write_df = write_df[write_df['content_new'] != '']\n",
    "write_df.to_csv(\"./nytimes.tsv\", sep='\\t', header=None, index=False)"
   ]
  }
 ],
 "metadata": {
  "kernelspec": {
   "display_name": "Python 3",
   "language": "python",
   "name": "python3"
  },
  "language_info": {
   "codemirror_mode": {
    "name": "ipython",
    "version": 3
   },
   "file_extension": ".py",
   "mimetype": "text/x-python",
   "name": "python",
   "nbconvert_exporter": "python",
   "pygments_lexer": "ipython3",
   "version": "3.6.9"
  }
 },
 "nbformat": 4,
 "nbformat_minor": 2
}
